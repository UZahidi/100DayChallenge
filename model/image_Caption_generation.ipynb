{
  "nbformat": 4,
  "nbformat_minor": 0,
  "metadata": {
    "colab": {
      "name": "image Caption generation.ipynb",
      "provenance": [],
      "collapsed_sections": [],
      "toc_visible": true,
      "authorship_tag": "ABX9TyNyzWeJGTXiF7/f4E/2gnrb",
      "include_colab_link": true
    },
    "kernelspec": {
      "name": "python3",
      "display_name": "Python 3"
    }
  },
  "cells": [
    {
      "cell_type": "markdown",
      "metadata": {
        "id": "view-in-github",
        "colab_type": "text"
      },
      "source": [
        "<a href=\"https://colab.research.google.com/github/UZahidi/100DayChallenge/blob/main/model/image_Caption_generation.ipynb\" target=\"_parent\"><img src=\"https://colab.research.google.com/assets/colab-badge.svg\" alt=\"Open In Colab\"/></a>"
      ]
    },
    {
      "cell_type": "code",
      "metadata": {
        "colab": {
          "base_uri": "https://localhost:8080/"
        },
        "id": "fiSe9_rO1ABB",
        "outputId": "fe9ee53b-3093-44de-883b-6f32bf12f9ca"
      },
      "source": [
        "try:\n",
        "    import google.colab\n",
        "    in_colab = True\n",
        "except:\n",
        "    in_colab = False\n",
        "\n",
        "if in_colab:\n",
        "    !git clone https://github.com/UZahidi/100DayChallenge.git\n",
        "    !mv -v 100DayChallenge/* .\n",
        "    !rm -rf 100DayChallenge\n"
      ],
      "execution_count": 19,
      "outputs": [
        {
          "output_type": "stream",
          "text": [
            "Cloning into '100DayChallenge'...\n",
            "remote: Enumerating objects: 34, done.\u001b[K\n",
            "remote: Counting objects: 100% (34/34), done.\u001b[K\n",
            "remote: Compressing objects: 100% (26/26), done.\u001b[K\n",
            "remote: Total 34 (delta 6), reused 13 (delta 3), pack-reused 0\u001b[K\n",
            "Unpacking objects: 100% (34/34), done.\n",
            "mv: cannot move '100DayChallenge/DataSet' to './DataSet': Directory not empty\n",
            "mv: cannot move '100DayChallenge/model' to './model': Directory not empty\n",
            "renamed '100DayChallenge/README.md' -> './README.md'\n"
          ],
          "name": "stdout"
        }
      ]
    },
    {
      "cell_type": "markdown",
      "metadata": {
        "id": "ANRbRmR724LV"
      },
      "source": [
        "## ***Image Caption Generation***"
      ]
    },
    {
      "cell_type": "markdown",
      "metadata": {
        "id": "Kv_z0GvG3CkN"
      },
      "source": [
        "In this project we wanna to develop state-of-the-art algorithm to generate the captions just providing the image."
      ]
    },
    {
      "cell_type": "code",
      "metadata": {
        "id": "VXp5HvFI3cPb"
      },
      "source": [
        ""
      ],
      "execution_count": null,
      "outputs": []
    }
  ]
}