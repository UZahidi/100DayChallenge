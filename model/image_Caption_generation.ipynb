{
  "nbformat": 4,
  "nbformat_minor": 0,
  "metadata": {
    "colab": {
      "name": "image Caption generation.ipynb",
      "provenance": [],
      "collapsed_sections": [],
      "authorship_tag": "ABX9TyNeOQmwuL7QiXbnZScgDnnB",
      "include_colab_link": true
    },
    "kernelspec": {
      "name": "python3",
      "display_name": "Python 3"
    }
  },
  "cells": [
    {
      "cell_type": "markdown",
      "metadata": {
        "id": "view-in-github",
        "colab_type": "text"
      },
      "source": [
        "<a href=\"https://colab.research.google.com/github/UZahidi/100DayChallenge/blob/main/model/image_Caption_generation.ipynb\" target=\"_parent\"><img src=\"https://colab.research.google.com/assets/colab-badge.svg\" alt=\"Open In Colab\"/></a>"
      ]
    },
    {
      "cell_type": "code",
      "metadata": {
        "colab": {
          "base_uri": "https://localhost:8080/"
        },
        "id": "fiSe9_rO1ABB",
        "outputId": "814ed90b-b4d4-4330-8a7c-29b9a03aa607"
      },
      "source": [
        ""
      ],
      "execution_count": 1,
      "outputs": [
        {
          "output_type": "stream",
          "text": [
            "/content\n"
          ],
          "name": "stdout"
        }
      ]
    },
    {
      "cell_type": "markdown",
      "metadata": {
        "id": "ANRbRmR724LV"
      },
      "source": [
        "## ***Image Caption Generation***"
      ]
    },
    {
      "cell_type": "markdown",
      "metadata": {
        "id": "Kv_z0GvG3CkN"
      },
      "source": [
        "In this project we wanna to develop state-of-the-art algorithm to generate the captions just providing the image."
      ]
    },
    {
      "cell_type": "code",
      "metadata": {
        "id": "VXp5HvFI3cPb"
      },
      "source": [
        ""
      ],
      "execution_count": null,
      "outputs": []
    }
  ]
}